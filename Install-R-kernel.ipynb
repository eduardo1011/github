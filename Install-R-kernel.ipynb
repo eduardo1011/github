{
 "cells": [
  {
   "cell_type": "markdown",
   "metadata": {},
   "source": [
    "# Install R kernel\n",
    "in the terminal run the following command:\n",
    "conda install -c r r-essentials\n"
   ]
  },
  {
   "cell_type": "code",
   "execution_count": 1,
   "metadata": {},
   "outputs": [
    {
     "name": "stdout",
     "output_type": "stream",
     "text": [
      "Fetching package metadata .............\n",
      "Solving package specifications: .\n",
      "\n",
      "Package plan for installation in environment /Users/migueldelrio/anaconda3:\n",
      "\n",
      "The following NEW packages will be INSTALLED:\n",
      "\n",
      "    libsodium:      1.0.10-0           conda-forge\n",
      "    pandoc:         1.19.2-0           conda-forge\n",
      "    r-assertthat:   0.1-r3.3.2_4       r          \n",
      "    r-backports:    1.0.4-r3.3.2_0     r          \n",
      "    r-base64enc:    0.1_3-r3.3.2_0     r          \n",
      "    r-bh:           1.62.0_1-r3.3.2_0  r          \n",
      "    r-bitops:       1.0_6-r3.3.2_2     r          \n",
      "    r-broom:        0.4.1-r3.3.2_0     r          \n",
      "    r-car:          2.1_4-r3.3.2_0     r          \n",
      "    r-caret:        6.0_73-r3.3.2_0    r          \n",
      "    r-catools:      1.17.1-r3.3.2_2    r          \n",
      "    r-colorspace:   1.3_1-r3.3.2_0     r          \n",
      "    r-crayon:       1.3.2-r3.3.2_0     r          \n",
      "    r-curl:         2.3-r3.3.2_0       r          \n",
      "    r-data.table:   1.10.0-r3.3.2_0    r          \n",
      "    r-dbi:          0.5_1-r3.3.2_0     r          \n",
      "    r-dichromat:    2.0_0-r3.3.2_2     r          \n",
      "    r-digest:       0.6.10-r3.3.2_0    r          \n",
      "    r-dplyr:        0.5.0-r3.3.2_0     r          \n",
      "    r-essentials:   1.5.2-r3.3.2_0     r          \n",
      "    r-evaluate:     0.10-r3.3.2_0      r          \n",
      "    r-forcats:      0.1.1-r3.3.2_0     r          \n",
      "    r-foreach:      1.4.3-r3.3.2_0     r          \n",
      "    r-formatr:      1.4-r3.3.2_0       r          \n",
      "    r-ggplot2:      2.2.0-r3.3.2_0     r          \n",
      "    r-gistr:        0.3.6-r3.3.2_0     r          \n",
      "    r-glmnet:       2.0_5-r3.3.2_0     r          \n",
      "    r-gtable:       0.2.0-r3.3.2_0     r          \n",
      "    r-haven:        1.0.0-r3.3.2_0     r          \n",
      "    r-hexbin:       1.27.1-r3.3.2_0    r          \n",
      "    r-highr:        0.6-r3.3.2_0       r          \n",
      "    r-hms:          0.3-r3.3.2_0       r          \n",
      "    r-htmltools:    0.3.5-r3.3.2_0     r          \n",
      "    r-htmlwidgets:  0.8-r3.3.2_0       r          \n",
      "    r-httpuv:       1.3.3-r3.3.2_0     r          \n",
      "    r-httr:         1.2.1-r3.3.2_0     r          \n",
      "    r-irdisplay:    0.4.4-r3.3.2_0     r          \n",
      "    r-irkernel:     0.7.1-r3.3.2_0     r          \n",
      "    r-iterators:    1.0.8-r3.3.2_0     r          \n",
      "    r-jsonlite:     1.1-r3.3.2_0       r          \n",
      "    r-knitr:        1.15.1-r3.3.2_0    r          \n",
      "    r-labeling:     0.3-r3.3.2_2       r          \n",
      "    r-lazyeval:     0.2.0-r3.3.2_0     r          \n",
      "    r-lme4:         1.1_12-r3.3.2_0    r          \n",
      "    r-lubridate:    1.6.0-r3.3.2_0     r          \n",
      "    r-magrittr:     1.5-r3.3.2_2       r          \n",
      "    r-maps:         3.1.1-r3.3.2_0     r          \n",
      "    r-markdown:     0.7.7-r3.3.2_2     r          \n",
      "    r-matrixmodels: 0.4_1-r3.3.2_0     r          \n",
      "    r-mime:         0.5-r3.3.2_0       r          \n",
      "    r-minqa:        1.2.4-r3.3.2_2     r          \n",
      "    r-mnormt:       1.5_5-r3.3.2_0     r          \n",
      "    r-modelmetrics: 1.1.0-r3.3.2_0     r          \n",
      "    r-modelr:       0.1.0-r3.3.2_0     r          \n",
      "    r-munsell:      0.4.3-r3.3.2_0     r          \n",
      "    r-nloptr:       1.0.4-r3.3.2_2     r          \n",
      "    r-openssl:      0.9.5-r3.3.2_0     r          \n",
      "    r-pbdzmq:       0.2_4-r3.3.2_0     r          \n",
      "    r-pbkrtest:     0.4_6-r3.3.2_0     r          \n",
      "    r-plyr:         1.8.4-r3.3.2_0     r          \n",
      "    r-pryr:         0.1.2-r3.3.2_0     r          \n",
      "    r-psych:        1.6.9-r3.3.2_0     r          \n",
      "    r-purrr:        0.2.2-r3.3.2_0     r          \n",
      "    r-quantmod:     0.4_7-r3.3.2_0     r          \n",
      "    r-quantreg:     5.29-r3.3.2_0      r          \n",
      "    r-r6:           2.2.0-r3.3.2_0     r          \n",
      "    r-randomforest: 4.6_12-r3.3.2_0    r          \n",
      "    r-rbokeh:       0.5.0-r3.3.2_0     r          \n",
      "    r-rcolorbrewer: 1.1_2-r3.3.2_3     r          \n",
      "    r-rcpp:         0.12.8-r3.3.2_0    r          \n",
      "    r-rcppeigen:    0.3.2.9.0-r3.3.2_0 r          \n",
      "    r-readr:        1.0.0-r3.3.2_0     r          \n",
      "    r-readxl:       0.1.1-r3.3.2_0     r          \n",
      "    r-repr:         0.10-r3.3.2_0      r          \n",
      "    r-reshape2:     1.4.2-r3.3.2_0     r          \n",
      "    r-rmarkdown:    1.3-r3.3.2_0       r          \n",
      "    r-rprojroot:    1.1-r3.3.2_0       r          \n",
      "    r-rvest:        0.3.2-r3.3.2_0     r          \n",
      "    r-scales:       0.4.1-r3.3.2_0     r          \n",
      "    r-selectr:      0.3_0-r3.3.2_0     r          \n",
      "    r-shiny:        0.14.2-r3.3.2_0    r          \n",
      "    r-sourcetools:  0.1.5-r3.3.2_0     r          \n",
      "    r-sparsem:      1.74-r3.3.2_0      r          \n",
      "    r-stringi:      1.1.2-r3.3.2_0     r          \n",
      "    r-stringr:      1.1.0-r3.3.2_0     r          \n",
      "    r-tibble:       1.2-r3.3.2_0       r          \n",
      "    r-tidyr:        0.6.0-r3.3.2_0     r          \n",
      "    r-tidyverse:    1.0.0-r3.3.2_0     r          \n",
      "    r-ttr:          0.23_1-r3.3.2_0    r          \n",
      "    r-uuid:         0.1_2-r3.3.2_0     r          \n",
      "    r-xml2:         1.0.0-r3.3.2_0     r          \n",
      "    r-xtable:       1.8_2-r3.3.2_0     r          \n",
      "    r-xts:          0.9_7-r3.3.2_2     r          \n",
      "    r-yaml:         2.1.14-r3.3.2_0    r          \n",
      "    r-zoo:          1.7_13-r3.3.2_0    r          \n",
      "    zeromq:         4.1.5-0            conda-forge\n",
      "\n",
      "Proceed ([y]/n)? ^C\n"
     ]
    }
   ],
   "source": [
    "!conda install -c r r-essentials"
   ]
  },
  {
   "cell_type": "code",
   "execution_count": null,
   "metadata": {
    "collapsed": true
   },
   "outputs": [],
   "source": [
    "y\n"
   ]
  }
 ],
 "metadata": {
  "kernelspec": {
   "display_name": "Python 3",
   "language": "python",
   "name": "python3"
  },
  "language_info": {
   "codemirror_mode": {
    "name": "ipython",
    "version": 3
   },
   "file_extension": ".py",
   "mimetype": "text/x-python",
   "name": "python",
   "nbconvert_exporter": "python",
   "pygments_lexer": "ipython3",
   "version": "3.6.1"
  }
 },
 "nbformat": 4,
 "nbformat_minor": 1
}
